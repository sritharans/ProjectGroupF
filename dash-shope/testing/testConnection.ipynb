{
 "cells": [
  {
   "cell_type": "code",
   "execution_count": 2,
   "metadata": {},
   "outputs": [
    {
     "data": {
      "text/html": [
       "<div>\n",
       "<style scoped>\n",
       "    .dataframe tbody tr th:only-of-type {\n",
       "        vertical-align: middle;\n",
       "    }\n",
       "\n",
       "    .dataframe tbody tr th {\n",
       "        vertical-align: top;\n",
       "    }\n",
       "\n",
       "    .dataframe thead th {\n",
       "        text-align: right;\n",
       "    }\n",
       "</style>\n",
       "<table border=\"1\" class=\"dataframe\">\n",
       "  <thead>\n",
       "    <tr style=\"text-align: right;\">\n",
       "      <th></th>\n",
       "      <th>Label</th>\n",
       "      <th>Stars</th>\n",
       "      <th>Ratings</th>\n",
       "      <th>Sold</th>\n",
       "      <th>PriceMin</th>\n",
       "      <th>PriceMax</th>\n",
       "      <th>Stock</th>\n",
       "      <th>Seller</th>\n",
       "      <th>SellerRatings</th>\n",
       "      <th>Products</th>\n",
       "      <th>ResponseRate</th>\n",
       "      <th>ResponseTime</th>\n",
       "      <th>Joined</th>\n",
       "      <th>Followers</th>\n",
       "      <th>URL</th>\n",
       "    </tr>\n",
       "  </thead>\n",
       "  <tbody>\n",
       "    <tr>\n",
       "      <th>0</th>\n",
       "      <td>Genuine Kia Motors Power Window Motor ASSY for...</td>\n",
       "      <td>0.0</td>\n",
       "      <td>0.0</td>\n",
       "      <td>0</td>\n",
       "      <td>190.0</td>\n",
       "      <td>190.0</td>\n",
       "      <td>0</td>\n",
       "      <td>chlee99</td>\n",
       "      <td>51.0</td>\n",
       "      <td>325.0</td>\n",
       "      <td>0.83</td>\n",
       "      <td>hours</td>\n",
       "      <td>21 months</td>\n",
       "      <td>93.0</td>\n",
       "      <td>https://shopee.com.my/Djdhdhdjdjdjdjdjdhdhdhdh...</td>\n",
       "    </tr>\n",
       "    <tr>\n",
       "      <th>1</th>\n",
       "      <td>【German Formulated🇩🇪】💎Diamond Coating💎</td>\n",
       "      <td>4.8</td>\n",
       "      <td>46.0</td>\n",
       "      <td>68</td>\n",
       "      <td>59.0</td>\n",
       "      <td>59.0</td>\n",
       "      <td>68</td>\n",
       "      <td>diamondcoating</td>\n",
       "      <td>62.0</td>\n",
       "      <td>7.0</td>\n",
       "      <td>0.93</td>\n",
       "      <td>days</td>\n",
       "      <td>3 months</td>\n",
       "      <td>26.0</td>\n",
       "      <td>https://shopee.com.my/【German-Formulated🇩🇪】💎Di...</td>\n",
       "    </tr>\n",
       "    <tr>\n",
       "      <th>2</th>\n",
       "      <td>STICKER METER Y15ZR V2</td>\n",
       "      <td>4.9</td>\n",
       "      <td>344.0</td>\n",
       "      <td>525</td>\n",
       "      <td>15.0</td>\n",
       "      <td>15.0</td>\n",
       "      <td>525</td>\n",
       "      <td>ariffindaud</td>\n",
       "      <td>1200.0</td>\n",
       "      <td>19.0</td>\n",
       "      <td>0.93</td>\n",
       "      <td>hours</td>\n",
       "      <td>5 years</td>\n",
       "      <td>696.0</td>\n",
       "      <td>https://shopee.com.my/STICKER-METER-Y15ZR-V2-i...</td>\n",
       "    </tr>\n",
       "    <tr>\n",
       "      <th>3</th>\n",
       "      <td>STICKER METER Y15ZR V1 BARU</td>\n",
       "      <td>4.9</td>\n",
       "      <td>73.0</td>\n",
       "      <td>107</td>\n",
       "      <td>28.0</td>\n",
       "      <td>28.0</td>\n",
       "      <td>107</td>\n",
       "      <td>ariffindaud</td>\n",
       "      <td>1200.0</td>\n",
       "      <td>19.0</td>\n",
       "      <td>0.93</td>\n",
       "      <td>hours</td>\n",
       "      <td>5 years</td>\n",
       "      <td>696.0</td>\n",
       "      <td>https://shopee.com.my/STICKER-METER-Y15ZR-V1-B...</td>\n",
       "    </tr>\n",
       "    <tr>\n",
       "      <th>4</th>\n",
       "      <td>STICKER METER EX5 DREAM</td>\n",
       "      <td>4.9</td>\n",
       "      <td>12.0</td>\n",
       "      <td>15</td>\n",
       "      <td>15.0</td>\n",
       "      <td>15.0</td>\n",
       "      <td>15</td>\n",
       "      <td>ariffindaud</td>\n",
       "      <td>1200.0</td>\n",
       "      <td>19.0</td>\n",
       "      <td>0.93</td>\n",
       "      <td>hours</td>\n",
       "      <td>5 years</td>\n",
       "      <td>696.0</td>\n",
       "      <td>https://shopee.com.my/STICKER-METER-EX5-DREAM-...</td>\n",
       "    </tr>\n",
       "  </tbody>\n",
       "</table>\n",
       "</div>"
      ],
      "text/plain": [
       "                                               Label  Stars  Ratings  Sold  \\\n",
       "0  Genuine Kia Motors Power Window Motor ASSY for...    0.0      0.0     0   \n",
       "1             【German Formulated🇩🇪】💎Diamond Coating💎    4.8     46.0    68   \n",
       "2                             STICKER METER Y15ZR V2    4.9    344.0   525   \n",
       "3                        STICKER METER Y15ZR V1 BARU    4.9     73.0   107   \n",
       "4                            STICKER METER EX5 DREAM    4.9     12.0    15   \n",
       "\n",
       "   PriceMin  PriceMax  Stock          Seller  SellerRatings  Products  \\\n",
       "0     190.0     190.0      0         chlee99           51.0     325.0   \n",
       "1      59.0      59.0     68  diamondcoating           62.0       7.0   \n",
       "2      15.0      15.0    525     ariffindaud         1200.0      19.0   \n",
       "3      28.0      28.0    107     ariffindaud         1200.0      19.0   \n",
       "4      15.0      15.0     15     ariffindaud         1200.0      19.0   \n",
       "\n",
       "   ResponseRate ResponseTime      Joined  Followers  \\\n",
       "0          0.83        hours  21 months        93.0   \n",
       "1          0.93         days   3 months        26.0   \n",
       "2          0.93        hours    5 years       696.0   \n",
       "3          0.93        hours    5 years       696.0   \n",
       "4          0.93        hours    5 years       696.0   \n",
       "\n",
       "                                                 URL  \n",
       "0  https://shopee.com.my/Djdhdhdjdjdjdjdjdhdhdhdh...  \n",
       "1  https://shopee.com.my/【German-Formulated🇩🇪】💎Di...  \n",
       "2  https://shopee.com.my/STICKER-METER-Y15ZR-V2-i...  \n",
       "3  https://shopee.com.my/STICKER-METER-Y15ZR-V1-B...  \n",
       "4  https://shopee.com.my/STICKER-METER-EX5-DREAM-...  "
      ]
     },
     "execution_count": 2,
     "metadata": {},
     "output_type": "execute_result"
    }
   ],
   "source": [
    "import pandas as pd\n",
    "from pyhive import hive\n",
    "conn = hive.connect(host='10.242.134.39', port=10000, username='=root', auth='NONE')\n",
    "cursor = conn.cursor()\n",
    "cursor.execute(\"select * from shopedata limit 100\")\n",
    "Shopedata = []\n",
    "for result in cursor.fetchall():\n",
    "    data = []\n",
    "    for i in result:\n",
    "        data.append(i)\n",
    "    Shopedata.append(data)\n",
    "cursor.close()\n",
    "\n",
    "df=pd.DataFrame(data=Shopedata,columns=['Label', 'Stars', 'Ratings', 'Sold', 'PriceMin', 'PriceMax', 'Stock',\n",
    "       'Seller', 'SellerRatings', 'Products', 'ResponseRate', 'ResponseTime',\n",
    "       'Joined', 'Followers', 'URL'])\n",
    "\n",
    "df.head()"
   ]
  },
  {
   "cell_type": "code",
   "execution_count": 7,
   "metadata": {},
   "outputs": [
    {
     "data": {
      "text/plain": [
       "100"
      ]
     },
     "execution_count": 7,
     "metadata": {},
     "output_type": "execute_result"
    }
   ],
   "source": [
    "len(df)"
   ]
  },
  {
   "cell_type": "code",
   "execution_count": 8,
   "metadata": {},
   "outputs": [],
   "source": [
    "df=df.dropna()"
   ]
  },
  {
   "cell_type": "code",
   "execution_count": 9,
   "metadata": {},
   "outputs": [
    {
     "data": {
      "text/plain": [
       "96"
      ]
     },
     "execution_count": 9,
     "metadata": {},
     "output_type": "execute_result"
    }
   ],
   "source": [
    "len(df)"
   ]
  },
  {
   "cell_type": "code",
   "execution_count": 28,
   "metadata": {},
   "outputs": [],
   "source": [
    "import matplotlib.pyplot as plt\n",
    "\n",
    "%matplotlib inline\n",
    "\n",
    "import seaborn as sns\n",
    "import pandas as pd"
   ]
  },
  {
   "cell_type": "code",
   "execution_count": 29,
   "metadata": {},
   "outputs": [],
   "source": [
    "df=pd.read_csv(\"samples/Automotive.csv\")"
   ]
  },
  {
   "cell_type": "code",
   "execution_count": 30,
   "metadata": {},
   "outputs": [
    {
     "data": {
      "text/plain": [
       "Index(['Label', 'Stars', 'Ratings', 'Sold', 'PriceMin', 'PriceMax', 'Stock',\n",
       "       'Seller', 'SellerRatings', 'Products', 'ResponseRate', 'ResponseTime',\n",
       "       'Joined', 'Followers', 'URL'],\n",
       "      dtype='object')"
      ]
     },
     "execution_count": 30,
     "metadata": {},
     "output_type": "execute_result"
    }
   ],
   "source": [
    "df.columns"
   ]
  },
  {
   "cell_type": "code",
   "execution_count": 126,
   "metadata": {},
   "outputs": [
    {
     "data": {
      "text/html": [
       "<div>\n",
       "<style scoped>\n",
       "    .dataframe tbody tr th:only-of-type {\n",
       "        vertical-align: middle;\n",
       "    }\n",
       "\n",
       "    .dataframe tbody tr th {\n",
       "        vertical-align: top;\n",
       "    }\n",
       "\n",
       "    .dataframe thead th {\n",
       "        text-align: right;\n",
       "    }\n",
       "</style>\n",
       "<table border=\"1\" class=\"dataframe\">\n",
       "  <thead>\n",
       "    <tr style=\"text-align: right;\">\n",
       "      <th></th>\n",
       "      <th>Label</th>\n",
       "      <th>Stars</th>\n",
       "      <th>Ratings</th>\n",
       "      <th>Sold</th>\n",
       "      <th>PriceMin</th>\n",
       "      <th>PriceMax</th>\n",
       "      <th>Stock</th>\n",
       "      <th>Seller</th>\n",
       "      <th>SellerRatings</th>\n",
       "      <th>Products</th>\n",
       "      <th>ResponseRate</th>\n",
       "      <th>ResponseTime</th>\n",
       "      <th>Joined</th>\n",
       "      <th>Followers</th>\n",
       "      <th>URL</th>\n",
       "    </tr>\n",
       "  </thead>\n",
       "  <tbody>\n",
       "    <tr>\n",
       "      <th>0</th>\n",
       "      <td>Genuine Kia Motors Power Window Motor ASSY for...</td>\n",
       "      <td>0.0</td>\n",
       "      <td>0</td>\n",
       "      <td>0</td>\n",
       "      <td>190.0</td>\n",
       "      <td>190.0</td>\n",
       "      <td>0</td>\n",
       "      <td>chlee99</td>\n",
       "      <td>51</td>\n",
       "      <td>325</td>\n",
       "      <td>0.83</td>\n",
       "      <td>hours</td>\n",
       "      <td>21 months</td>\n",
       "      <td>93</td>\n",
       "      <td>https://shopee.com.my/Djdhdhdjdjdjdjdjdhdhdhdh...</td>\n",
       "    </tr>\n",
       "    <tr>\n",
       "      <th>1</th>\n",
       "      <td>【German Formulated🇩🇪】💎Diamond Coating💎</td>\n",
       "      <td>4.8</td>\n",
       "      <td>46</td>\n",
       "      <td>68</td>\n",
       "      <td>59.0</td>\n",
       "      <td>59.0</td>\n",
       "      <td>68</td>\n",
       "      <td>diamondcoating</td>\n",
       "      <td>62</td>\n",
       "      <td>7</td>\n",
       "      <td>0.93</td>\n",
       "      <td>days</td>\n",
       "      <td>3 months</td>\n",
       "      <td>26</td>\n",
       "      <td>https://shopee.com.my/【German-Formulated🇩🇪】💎Di...</td>\n",
       "    </tr>\n",
       "    <tr>\n",
       "      <th>2</th>\n",
       "      <td>STICKER METER Y15ZR V2</td>\n",
       "      <td>4.9</td>\n",
       "      <td>344</td>\n",
       "      <td>525</td>\n",
       "      <td>15.0</td>\n",
       "      <td>15.0</td>\n",
       "      <td>525</td>\n",
       "      <td>ariffindaud</td>\n",
       "      <td>1200</td>\n",
       "      <td>19</td>\n",
       "      <td>0.93</td>\n",
       "      <td>hours</td>\n",
       "      <td>5 years</td>\n",
       "      <td>696</td>\n",
       "      <td>https://shopee.com.my/STICKER-METER-Y15ZR-V2-i...</td>\n",
       "    </tr>\n",
       "    <tr>\n",
       "      <th>3</th>\n",
       "      <td>STICKER METER Y15ZR V1 BARU</td>\n",
       "      <td>4.9</td>\n",
       "      <td>73</td>\n",
       "      <td>107</td>\n",
       "      <td>28.0</td>\n",
       "      <td>28.0</td>\n",
       "      <td>107</td>\n",
       "      <td>ariffindaud</td>\n",
       "      <td>1200</td>\n",
       "      <td>19</td>\n",
       "      <td>0.93</td>\n",
       "      <td>hours</td>\n",
       "      <td>5 years</td>\n",
       "      <td>696</td>\n",
       "      <td>https://shopee.com.my/STICKER-METER-Y15ZR-V1-B...</td>\n",
       "    </tr>\n",
       "    <tr>\n",
       "      <th>4</th>\n",
       "      <td>STICKER METER EX5 DREAM</td>\n",
       "      <td>4.9</td>\n",
       "      <td>12</td>\n",
       "      <td>15</td>\n",
       "      <td>15.0</td>\n",
       "      <td>15.0</td>\n",
       "      <td>15</td>\n",
       "      <td>ariffindaud</td>\n",
       "      <td>1200</td>\n",
       "      <td>19</td>\n",
       "      <td>0.93</td>\n",
       "      <td>hours</td>\n",
       "      <td>5 years</td>\n",
       "      <td>696</td>\n",
       "      <td>https://shopee.com.my/STICKER-METER-EX5-DREAM-...</td>\n",
       "    </tr>\n",
       "  </tbody>\n",
       "</table>\n",
       "</div>"
      ],
      "text/plain": [
       "                                               Label  Stars  Ratings  Sold  \\\n",
       "0  Genuine Kia Motors Power Window Motor ASSY for...    0.0        0     0   \n",
       "1             【German Formulated🇩🇪】💎Diamond Coating💎    4.8       46    68   \n",
       "2                             STICKER METER Y15ZR V2    4.9      344   525   \n",
       "3                        STICKER METER Y15ZR V1 BARU    4.9       73   107   \n",
       "4                            STICKER METER EX5 DREAM    4.9       12    15   \n",
       "\n",
       "   PriceMin  PriceMax  Stock          Seller  SellerRatings  Products  \\\n",
       "0     190.0     190.0      0         chlee99             51       325   \n",
       "1      59.0      59.0     68  diamondcoating             62         7   \n",
       "2      15.0      15.0    525     ariffindaud           1200        19   \n",
       "3      28.0      28.0    107     ariffindaud           1200        19   \n",
       "4      15.0      15.0     15     ariffindaud           1200        19   \n",
       "\n",
       "   ResponseRate ResponseTime      Joined  Followers  \\\n",
       "0          0.83        hours  21 months          93   \n",
       "1          0.93         days   3 months          26   \n",
       "2          0.93        hours    5 years         696   \n",
       "3          0.93        hours    5 years         696   \n",
       "4          0.93        hours    5 years         696   \n",
       "\n",
       "                                                 URL  \n",
       "0  https://shopee.com.my/Djdhdhdjdjdjdjdjdhdhdhdh...  \n",
       "1  https://shopee.com.my/【German-Formulated🇩🇪】💎Di...  \n",
       "2  https://shopee.com.my/STICKER-METER-Y15ZR-V2-i...  \n",
       "3  https://shopee.com.my/STICKER-METER-Y15ZR-V1-B...  \n",
       "4  https://shopee.com.my/STICKER-METER-EX5-DREAM-...  "
      ]
     },
     "execution_count": 126,
     "metadata": {},
     "output_type": "execute_result"
    }
   ],
   "source": [
    "df.head()"
   ]
  },
  {
   "cell_type": "code",
   "execution_count": 31,
   "metadata": {},
   "outputs": [
    {
     "name": "stdout",
     "output_type": "stream",
     "text": [
      "<class 'pandas.core.frame.DataFrame'>\n",
      "RangeIndex: 4785 entries, 0 to 4784\n",
      "Data columns (total 15 columns):\n",
      "Label            4785 non-null object\n",
      "Stars            4785 non-null float64\n",
      "Ratings          4785 non-null int64\n",
      "Sold             4785 non-null int64\n",
      "PriceMin         4785 non-null float64\n",
      "PriceMax         4785 non-null float64\n",
      "Stock            4785 non-null int64\n",
      "Seller           4785 non-null object\n",
      "SellerRatings    4785 non-null int64\n",
      "Products         4785 non-null int64\n",
      "ResponseRate     4785 non-null float64\n",
      "ResponseTime     4785 non-null object\n",
      "Joined           4785 non-null object\n",
      "Followers        4785 non-null int64\n",
      "URL              4785 non-null object\n",
      "dtypes: float64(4), int64(6), object(5)\n",
      "memory usage: 560.8+ KB\n"
     ]
    }
   ],
   "source": [
    "df.info()"
   ]
  },
  {
   "cell_type": "markdown",
   "metadata": {},
   "source": [
    "The Stars related with shope Followers."
   ]
  },
  {
   "cell_type": "code",
   "execution_count": 32,
   "metadata": {},
   "outputs": [
    {
     "data": {
      "text/html": [
       "<div>\n",
       "<style scoped>\n",
       "    .dataframe tbody tr th:only-of-type {\n",
       "        vertical-align: middle;\n",
       "    }\n",
       "\n",
       "    .dataframe tbody tr th {\n",
       "        vertical-align: top;\n",
       "    }\n",
       "\n",
       "    .dataframe thead th {\n",
       "        text-align: right;\n",
       "    }\n",
       "</style>\n",
       "<table border=\"1\" class=\"dataframe\">\n",
       "  <thead>\n",
       "    <tr style=\"text-align: right;\">\n",
       "      <th></th>\n",
       "      <th>Stars</th>\n",
       "      <th>Ratings</th>\n",
       "      <th>Sold</th>\n",
       "      <th>PriceMin</th>\n",
       "      <th>PriceMax</th>\n",
       "      <th>Stock</th>\n",
       "      <th>SellerRatings</th>\n",
       "      <th>Products</th>\n",
       "      <th>ResponseRate</th>\n",
       "      <th>Followers</th>\n",
       "    </tr>\n",
       "  </thead>\n",
       "  <tbody>\n",
       "    <tr>\n",
       "      <th>count</th>\n",
       "      <td>4785.000000</td>\n",
       "      <td>4785.000000</td>\n",
       "      <td>4785.000000</td>\n",
       "      <td>4785.000000</td>\n",
       "      <td>4785.000000</td>\n",
       "      <td>4785.000000</td>\n",
       "      <td>4785.000000</td>\n",
       "      <td>4785.000000</td>\n",
       "      <td>4785.000000</td>\n",
       "      <td>4785.000000</td>\n",
       "    </tr>\n",
       "    <tr>\n",
       "      <th>mean</th>\n",
       "      <td>1.959248</td>\n",
       "      <td>19.084848</td>\n",
       "      <td>28.620690</td>\n",
       "      <td>54.548004</td>\n",
       "      <td>54.548004</td>\n",
       "      <td>28.620690</td>\n",
       "      <td>354.206479</td>\n",
       "      <td>610.215674</td>\n",
       "      <td>0.762635</td>\n",
       "      <td>382.245141</td>\n",
       "    </tr>\n",
       "    <tr>\n",
       "      <th>std</th>\n",
       "      <td>2.383930</td>\n",
       "      <td>67.433830</td>\n",
       "      <td>100.332741</td>\n",
       "      <td>49.486688</td>\n",
       "      <td>49.486688</td>\n",
       "      <td>100.332741</td>\n",
       "      <td>710.826179</td>\n",
       "      <td>1527.358993</td>\n",
       "      <td>0.255330</td>\n",
       "      <td>681.989386</td>\n",
       "    </tr>\n",
       "    <tr>\n",
       "      <th>min</th>\n",
       "      <td>0.000000</td>\n",
       "      <td>0.000000</td>\n",
       "      <td>0.000000</td>\n",
       "      <td>0.000000</td>\n",
       "      <td>0.000000</td>\n",
       "      <td>0.000000</td>\n",
       "      <td>0.000000</td>\n",
       "      <td>2.000000</td>\n",
       "      <td>0.150000</td>\n",
       "      <td>0.000000</td>\n",
       "    </tr>\n",
       "    <tr>\n",
       "      <th>25%</th>\n",
       "      <td>0.000000</td>\n",
       "      <td>0.000000</td>\n",
       "      <td>0.000000</td>\n",
       "      <td>15.000000</td>\n",
       "      <td>15.000000</td>\n",
       "      <td>0.000000</td>\n",
       "      <td>0.000000</td>\n",
       "      <td>18.000000</td>\n",
       "      <td>0.570000</td>\n",
       "      <td>21.000000</td>\n",
       "    </tr>\n",
       "    <tr>\n",
       "      <th>50%</th>\n",
       "      <td>0.000000</td>\n",
       "      <td>0.000000</td>\n",
       "      <td>0.000000</td>\n",
       "      <td>40.880000</td>\n",
       "      <td>40.880000</td>\n",
       "      <td>0.000000</td>\n",
       "      <td>52.000000</td>\n",
       "      <td>75.000000</td>\n",
       "      <td>0.850000</td>\n",
       "      <td>65.000000</td>\n",
       "    </tr>\n",
       "    <tr>\n",
       "      <th>75%</th>\n",
       "      <td>4.900000</td>\n",
       "      <td>3.000000</td>\n",
       "      <td>6.000000</td>\n",
       "      <td>75.900000</td>\n",
       "      <td>75.900000</td>\n",
       "      <td>6.000000</td>\n",
       "      <td>268.000000</td>\n",
       "      <td>597.000000</td>\n",
       "      <td>0.980000</td>\n",
       "      <td>462.000000</td>\n",
       "    </tr>\n",
       "    <tr>\n",
       "      <th>max</th>\n",
       "      <td>5.000000</td>\n",
       "      <td>344.000000</td>\n",
       "      <td>525.000000</td>\n",
       "      <td>192.950000</td>\n",
       "      <td>192.950000</td>\n",
       "      <td>525.000000</td>\n",
       "      <td>3300.000000</td>\n",
       "      <td>8900.000000</td>\n",
       "      <td>1.000000</td>\n",
       "      <td>2400.000000</td>\n",
       "    </tr>\n",
       "  </tbody>\n",
       "</table>\n",
       "</div>"
      ],
      "text/plain": [
       "             Stars      Ratings         Sold     PriceMin     PriceMax  \\\n",
       "count  4785.000000  4785.000000  4785.000000  4785.000000  4785.000000   \n",
       "mean      1.959248    19.084848    28.620690    54.548004    54.548004   \n",
       "std       2.383930    67.433830   100.332741    49.486688    49.486688   \n",
       "min       0.000000     0.000000     0.000000     0.000000     0.000000   \n",
       "25%       0.000000     0.000000     0.000000    15.000000    15.000000   \n",
       "50%       0.000000     0.000000     0.000000    40.880000    40.880000   \n",
       "75%       4.900000     3.000000     6.000000    75.900000    75.900000   \n",
       "max       5.000000   344.000000   525.000000   192.950000   192.950000   \n",
       "\n",
       "             Stock  SellerRatings     Products  ResponseRate    Followers  \n",
       "count  4785.000000    4785.000000  4785.000000   4785.000000  4785.000000  \n",
       "mean     28.620690     354.206479   610.215674      0.762635   382.245141  \n",
       "std     100.332741     710.826179  1527.358993      0.255330   681.989386  \n",
       "min       0.000000       0.000000     2.000000      0.150000     0.000000  \n",
       "25%       0.000000       0.000000    18.000000      0.570000    21.000000  \n",
       "50%       0.000000      52.000000    75.000000      0.850000    65.000000  \n",
       "75%       6.000000     268.000000   597.000000      0.980000   462.000000  \n",
       "max     525.000000    3300.000000  8900.000000      1.000000  2400.000000  "
      ]
     },
     "execution_count": 32,
     "metadata": {},
     "output_type": "execute_result"
    }
   ],
   "source": [
    "df.describe()"
   ]
  },
  {
   "cell_type": "markdown",
   "metadata": {},
   "source": [
    "Here is the data dictionary:\n",
    "\n",
    "**Label** - Brief description of the product\n",
    "\n",
    "**Stars** - Rating this product has received (xx/5.0)\n",
    "\n",
    "**Ratings** - Number of customers that have rated this product\n",
    "\n",
    "**Sold** - Number of units of this product that have been sold\n",
    "\n",
    "**PriceMin** - Cheapest option of this product\n",
    "\n",
    "**PriceMax** - Most expensive option of this product\n",
    "\n",
    "**Stock** - Remaining available stock of this product\n",
    "\n",
    "**Seller** - The name of shop/seller\n",
    "\n",
    "**SellerRatings** - Number of ratings this seller has received\n",
    "\n",
    "**Products** - Number of products this seller has in his/her shop\n",
    "\n",
    "**ResponseRate** - Percentage of messages from customers this seller has responded to\n",
    "\n",
    "**ResponseTime** - How long it typically takes for this seller to respond to a message\n",
    "\n",
    "**Joined** - How long this seller has been on Shopee\n",
    "\n",
    "**Followers** - The number of customers following this seller's store\n",
    "\n",
    "**URL** - The actual URL of this product at Shopee"
   ]
  },
  {
   "cell_type": "code",
   "execution_count": 33,
   "metadata": {},
   "outputs": [
    {
     "data": {
      "text/plain": [
       "URL              0\n",
       "Followers        0\n",
       "Joined           0\n",
       "ResponseTime     0\n",
       "ResponseRate     0\n",
       "Products         0\n",
       "SellerRatings    0\n",
       "Seller           0\n",
       "Stock            0\n",
       "PriceMax         0\n",
       "PriceMin         0\n",
       "Sold             0\n",
       "Ratings          0\n",
       "Stars            0\n",
       "Label            0\n",
       "dtype: int64"
      ]
     },
     "execution_count": 33,
     "metadata": {},
     "output_type": "execute_result"
    }
   ],
   "source": [
    "#check null data\n",
    "df.isnull().sum().sort_values(ascending=False)"
   ]
  },
  {
   "cell_type": "code",
   "execution_count": 34,
   "metadata": {},
   "outputs": [
    {
     "data": {
      "text/plain": [
       "4735"
      ]
     },
     "execution_count": 34,
     "metadata": {},
     "output_type": "execute_result"
    }
   ],
   "source": [
    "# check duplicated data\n",
    "df.duplicated(subset=['Label']).sum()"
   ]
  },
  {
   "cell_type": "code",
   "execution_count": 131,
   "metadata": {},
   "outputs": [
    {
     "data": {
      "text/plain": [
       "597     1053\n",
       "19       600\n",
       "229      400\n",
       "8        400\n",
       "18       394\n",
       "10       257\n",
       "233      200\n",
       "9        200\n",
       "75       200\n",
       "4800     100\n",
       "32       100\n",
       "1500     100\n",
       "21       100\n",
       "39       100\n",
       "7        100\n",
       "2        100\n",
       "4400     100\n",
       "8900      91\n",
       "1400      77\n",
       "326       67\n",
       "327       27\n",
       "8800       9\n",
       "325        6\n",
       "588        3\n",
       "594        1\n",
       "Name: Products, dtype: int64"
      ]
     },
     "execution_count": 131,
     "metadata": {},
     "output_type": "execute_result"
    }
   ],
   "source": [
    "df[\"Products\"].value_counts()"
   ]
  },
  {
   "cell_type": "markdown",
   "metadata": {},
   "source": [
    "####  followers \n",
    "\n",
    "####  Sold\n",
    "\n",
    "####  Products\n",
    "\n",
    "#### SellerRatings "
   ]
  },
  {
   "cell_type": "markdown",
   "metadata": {},
   "source": [
    "# data handling"
   ]
  },
  {
   "cell_type": "raw",
   "metadata": {},
   "source": [
    "#### df.head(20)"
   ]
  },
  {
   "cell_type": "code",
   "execution_count": 36,
   "metadata": {},
   "outputs": [
    {
     "data": {
      "text/plain": [
       "0.0    2848\n",
       "5.0    1037\n",
       "4.9     400\n",
       "4.8     200\n",
       "4.5     200\n",
       "3.7     100\n",
       "Name: Stars, dtype: int64"
      ]
     },
     "execution_count": 36,
     "metadata": {},
     "output_type": "execute_result"
    }
   ],
   "source": [
    "df[\"Stars\"].value_counts()"
   ]
  },
  {
   "cell_type": "code",
   "execution_count": 112,
   "metadata": {},
   "outputs": [
    {
     "data": {
      "text/plain": [
       "1       1057\n",
       "696      500\n",
       "60       400\n",
       "2400     400\n",
       "159      394\n",
       "66       257\n",
       "52       200\n",
       "21       200\n",
       "407      100\n",
       "92       100\n",
       "176      100\n",
       "760      100\n",
       "1600     100\n",
       "25       100\n",
       "33       100\n",
       "37       100\n",
       "65       100\n",
       "93       100\n",
       "26       100\n",
       "462      100\n",
       "0        100\n",
       "314       77\n",
       "Name: Followers, dtype: int64"
      ]
     },
     "execution_count": 112,
     "metadata": {},
     "output_type": "execute_result"
    }
   ],
   "source": [
    "df[\"Followers\"].value_counts()"
   ]
  },
  {
   "cell_type": "code",
   "execution_count": 121,
   "metadata": {},
   "outputs": [],
   "source": [
    "X=[\"zij3.sip.my\",\n",
    "   \"ariffindaud\",\n",
    "   \"ljk_9270 \",\n",
    "  ]"
   ]
  },
  {
   "cell_type": "code",
   "execution_count": null,
   "metadata": {},
   "outputs": [],
   "source": []
  },
  {
   "cell_type": "code",
   "execution_count": 108,
   "metadata": {},
   "outputs": [
    {
     "name": "stdout",
     "output_type": "stream",
     "text": [
      "1\n"
     ]
    }
   ],
   "source": [
    "print(df[df[\"Seller\"]==\"zij3.sip.my\"].Followers.iloc[0])"
   ]
  },
  {
   "cell_type": "code",
   "execution_count": 109,
   "metadata": {},
   "outputs": [
    {
     "name": "stdout",
     "output_type": "stream",
     "text": [
      "zij3.sip.my \n"
     ]
    },
    {
     "ename": "IndexError",
     "evalue": "single positional indexer is out-of-bounds",
     "output_type": "error",
     "traceback": [
      "\u001b[0;31m---------------------------------------------------------------------------\u001b[0m",
      "\u001b[0;31mIndexError\u001b[0m                                Traceback (most recent call last)",
      "\u001b[0;32m<ipython-input-109-4525cd742e3c>\u001b[0m in \u001b[0;36m<module>\u001b[0;34m\u001b[0m\n\u001b[1;32m      1\u001b[0m \u001b[0;32mfor\u001b[0m \u001b[0mi\u001b[0m \u001b[0;32min\u001b[0m \u001b[0mX\u001b[0m\u001b[0;34m:\u001b[0m\u001b[0;34m\u001b[0m\u001b[0;34m\u001b[0m\u001b[0m\n\u001b[1;32m      2\u001b[0m     \u001b[0mprint\u001b[0m\u001b[0;34m(\u001b[0m\u001b[0mi\u001b[0m\u001b[0;34m)\u001b[0m\u001b[0;34m\u001b[0m\u001b[0;34m\u001b[0m\u001b[0m\n\u001b[0;32m----> 3\u001b[0;31m     \u001b[0mprint\u001b[0m\u001b[0;34m(\u001b[0m\u001b[0mdf\u001b[0m\u001b[0;34m[\u001b[0m\u001b[0mdf\u001b[0m\u001b[0;34m[\u001b[0m\u001b[0;34m\"Seller\"\u001b[0m\u001b[0;34m]\u001b[0m\u001b[0;34m==\u001b[0m\u001b[0mi\u001b[0m\u001b[0;34m]\u001b[0m\u001b[0;34m.\u001b[0m\u001b[0mFollowers\u001b[0m\u001b[0;34m.\u001b[0m\u001b[0miloc\u001b[0m\u001b[0;34m[\u001b[0m\u001b[0;36m0\u001b[0m\u001b[0;34m]\u001b[0m\u001b[0;34m)\u001b[0m\u001b[0;34m\u001b[0m\u001b[0;34m\u001b[0m\u001b[0m\n\u001b[0m",
      "\u001b[0;32m~/anaconda3/lib/python3.7/site-packages/pandas/core/indexing.py\u001b[0m in \u001b[0;36m__getitem__\u001b[0;34m(self, key)\u001b[0m\n\u001b[1;32m   1498\u001b[0m \u001b[0;34m\u001b[0m\u001b[0m\n\u001b[1;32m   1499\u001b[0m             \u001b[0mmaybe_callable\u001b[0m \u001b[0;34m=\u001b[0m \u001b[0mcom\u001b[0m\u001b[0;34m.\u001b[0m\u001b[0mapply_if_callable\u001b[0m\u001b[0;34m(\u001b[0m\u001b[0mkey\u001b[0m\u001b[0;34m,\u001b[0m \u001b[0mself\u001b[0m\u001b[0;34m.\u001b[0m\u001b[0mobj\u001b[0m\u001b[0;34m)\u001b[0m\u001b[0;34m\u001b[0m\u001b[0;34m\u001b[0m\u001b[0m\n\u001b[0;32m-> 1500\u001b[0;31m             \u001b[0;32mreturn\u001b[0m \u001b[0mself\u001b[0m\u001b[0;34m.\u001b[0m\u001b[0m_getitem_axis\u001b[0m\u001b[0;34m(\u001b[0m\u001b[0mmaybe_callable\u001b[0m\u001b[0;34m,\u001b[0m \u001b[0maxis\u001b[0m\u001b[0;34m=\u001b[0m\u001b[0maxis\u001b[0m\u001b[0;34m)\u001b[0m\u001b[0;34m\u001b[0m\u001b[0;34m\u001b[0m\u001b[0m\n\u001b[0m\u001b[1;32m   1501\u001b[0m \u001b[0;34m\u001b[0m\u001b[0m\n\u001b[1;32m   1502\u001b[0m     \u001b[0;32mdef\u001b[0m \u001b[0m_is_scalar_access\u001b[0m\u001b[0;34m(\u001b[0m\u001b[0mself\u001b[0m\u001b[0;34m,\u001b[0m \u001b[0mkey\u001b[0m\u001b[0;34m)\u001b[0m\u001b[0;34m:\u001b[0m\u001b[0;34m\u001b[0m\u001b[0;34m\u001b[0m\u001b[0m\n",
      "\u001b[0;32m~/anaconda3/lib/python3.7/site-packages/pandas/core/indexing.py\u001b[0m in \u001b[0;36m_getitem_axis\u001b[0;34m(self, key, axis)\u001b[0m\n\u001b[1;32m   2228\u001b[0m \u001b[0;34m\u001b[0m\u001b[0m\n\u001b[1;32m   2229\u001b[0m             \u001b[0;31m# validate the location\u001b[0m\u001b[0;34m\u001b[0m\u001b[0;34m\u001b[0m\u001b[0;34m\u001b[0m\u001b[0m\n\u001b[0;32m-> 2230\u001b[0;31m             \u001b[0mself\u001b[0m\u001b[0;34m.\u001b[0m\u001b[0m_validate_integer\u001b[0m\u001b[0;34m(\u001b[0m\u001b[0mkey\u001b[0m\u001b[0;34m,\u001b[0m \u001b[0maxis\u001b[0m\u001b[0;34m)\u001b[0m\u001b[0;34m\u001b[0m\u001b[0;34m\u001b[0m\u001b[0m\n\u001b[0m\u001b[1;32m   2231\u001b[0m \u001b[0;34m\u001b[0m\u001b[0m\n\u001b[1;32m   2232\u001b[0m             \u001b[0;32mreturn\u001b[0m \u001b[0mself\u001b[0m\u001b[0;34m.\u001b[0m\u001b[0m_get_loc\u001b[0m\u001b[0;34m(\u001b[0m\u001b[0mkey\u001b[0m\u001b[0;34m,\u001b[0m \u001b[0maxis\u001b[0m\u001b[0;34m=\u001b[0m\u001b[0maxis\u001b[0m\u001b[0;34m)\u001b[0m\u001b[0;34m\u001b[0m\u001b[0;34m\u001b[0m\u001b[0m\n",
      "\u001b[0;32m~/anaconda3/lib/python3.7/site-packages/pandas/core/indexing.py\u001b[0m in \u001b[0;36m_validate_integer\u001b[0;34m(self, key, axis)\u001b[0m\n\u001b[1;32m   2137\u001b[0m         \u001b[0mlen_axis\u001b[0m \u001b[0;34m=\u001b[0m \u001b[0mlen\u001b[0m\u001b[0;34m(\u001b[0m\u001b[0mself\u001b[0m\u001b[0;34m.\u001b[0m\u001b[0mobj\u001b[0m\u001b[0;34m.\u001b[0m\u001b[0m_get_axis\u001b[0m\u001b[0;34m(\u001b[0m\u001b[0maxis\u001b[0m\u001b[0;34m)\u001b[0m\u001b[0;34m)\u001b[0m\u001b[0;34m\u001b[0m\u001b[0;34m\u001b[0m\u001b[0m\n\u001b[1;32m   2138\u001b[0m         \u001b[0;32mif\u001b[0m \u001b[0mkey\u001b[0m \u001b[0;34m>=\u001b[0m \u001b[0mlen_axis\u001b[0m \u001b[0;32mor\u001b[0m \u001b[0mkey\u001b[0m \u001b[0;34m<\u001b[0m \u001b[0;34m-\u001b[0m\u001b[0mlen_axis\u001b[0m\u001b[0;34m:\u001b[0m\u001b[0;34m\u001b[0m\u001b[0;34m\u001b[0m\u001b[0m\n\u001b[0;32m-> 2139\u001b[0;31m             \u001b[0;32mraise\u001b[0m \u001b[0mIndexError\u001b[0m\u001b[0;34m(\u001b[0m\u001b[0;34m\"single positional indexer is out-of-bounds\"\u001b[0m\u001b[0;34m)\u001b[0m\u001b[0;34m\u001b[0m\u001b[0;34m\u001b[0m\u001b[0m\n\u001b[0m\u001b[1;32m   2140\u001b[0m \u001b[0;34m\u001b[0m\u001b[0m\n\u001b[1;32m   2141\u001b[0m     \u001b[0;32mdef\u001b[0m \u001b[0m_getitem_tuple\u001b[0m\u001b[0;34m(\u001b[0m\u001b[0mself\u001b[0m\u001b[0;34m,\u001b[0m \u001b[0mtup\u001b[0m\u001b[0;34m)\u001b[0m\u001b[0;34m:\u001b[0m\u001b[0;34m\u001b[0m\u001b[0;34m\u001b[0m\u001b[0m\n",
      "\u001b[0;31mIndexError\u001b[0m: single positional indexer is out-of-bounds"
     ]
    }
   ],
   "source": [
    "print(df[df[\"Seller\"]==i].Followers.iloc[0])"
   ]
  },
  {
   "cell_type": "code",
   "execution_count": 125,
   "metadata": {},
   "outputs": [
    {
     "name": "stdout",
     "output_type": "stream",
     "text": [
      "1\n",
      "---\n",
      "696\n",
      "---\n"
     ]
    },
    {
     "ename": "IndexError",
     "evalue": "single positional indexer is out-of-bounds",
     "output_type": "error",
     "traceback": [
      "\u001b[0;31m---------------------------------------------------------------------------\u001b[0m",
      "\u001b[0;31mIndexError\u001b[0m                                Traceback (most recent call last)",
      "\u001b[0;32m<ipython-input-125-a001aa87069f>\u001b[0m in \u001b[0;36m<module>\u001b[0;34m\u001b[0m\n\u001b[1;32m      1\u001b[0m \u001b[0;32mfor\u001b[0m \u001b[0mi\u001b[0m \u001b[0;32min\u001b[0m \u001b[0mX\u001b[0m\u001b[0;34m:\u001b[0m\u001b[0;34m\u001b[0m\u001b[0;34m\u001b[0m\u001b[0m\n\u001b[0;32m----> 2\u001b[0;31m     \u001b[0mprint\u001b[0m\u001b[0;34m(\u001b[0m\u001b[0mdf\u001b[0m\u001b[0;34m[\u001b[0m\u001b[0mdf\u001b[0m\u001b[0;34m[\u001b[0m\u001b[0;34m\"Seller\"\u001b[0m\u001b[0;34m]\u001b[0m\u001b[0;34m==\u001b[0m\u001b[0mi\u001b[0m\u001b[0;34m]\u001b[0m\u001b[0;34m.\u001b[0m\u001b[0mFollowers\u001b[0m\u001b[0;34m.\u001b[0m\u001b[0miloc\u001b[0m\u001b[0;34m[\u001b[0m\u001b[0;36m0\u001b[0m\u001b[0;34m]\u001b[0m\u001b[0;34m)\u001b[0m\u001b[0;34m\u001b[0m\u001b[0;34m\u001b[0m\u001b[0m\n\u001b[0m\u001b[1;32m      3\u001b[0m     \u001b[0mprint\u001b[0m\u001b[0;34m(\u001b[0m\u001b[0;34m\"---\"\u001b[0m\u001b[0;34m)\u001b[0m\u001b[0;34m\u001b[0m\u001b[0;34m\u001b[0m\u001b[0m\n",
      "\u001b[0;32m~/anaconda3/lib/python3.7/site-packages/pandas/core/indexing.py\u001b[0m in \u001b[0;36m__getitem__\u001b[0;34m(self, key)\u001b[0m\n\u001b[1;32m   1498\u001b[0m \u001b[0;34m\u001b[0m\u001b[0m\n\u001b[1;32m   1499\u001b[0m             \u001b[0mmaybe_callable\u001b[0m \u001b[0;34m=\u001b[0m \u001b[0mcom\u001b[0m\u001b[0;34m.\u001b[0m\u001b[0mapply_if_callable\u001b[0m\u001b[0;34m(\u001b[0m\u001b[0mkey\u001b[0m\u001b[0;34m,\u001b[0m \u001b[0mself\u001b[0m\u001b[0;34m.\u001b[0m\u001b[0mobj\u001b[0m\u001b[0;34m)\u001b[0m\u001b[0;34m\u001b[0m\u001b[0;34m\u001b[0m\u001b[0m\n\u001b[0;32m-> 1500\u001b[0;31m             \u001b[0;32mreturn\u001b[0m \u001b[0mself\u001b[0m\u001b[0;34m.\u001b[0m\u001b[0m_getitem_axis\u001b[0m\u001b[0;34m(\u001b[0m\u001b[0mmaybe_callable\u001b[0m\u001b[0;34m,\u001b[0m \u001b[0maxis\u001b[0m\u001b[0;34m=\u001b[0m\u001b[0maxis\u001b[0m\u001b[0;34m)\u001b[0m\u001b[0;34m\u001b[0m\u001b[0;34m\u001b[0m\u001b[0m\n\u001b[0m\u001b[1;32m   1501\u001b[0m \u001b[0;34m\u001b[0m\u001b[0m\n\u001b[1;32m   1502\u001b[0m     \u001b[0;32mdef\u001b[0m \u001b[0m_is_scalar_access\u001b[0m\u001b[0;34m(\u001b[0m\u001b[0mself\u001b[0m\u001b[0;34m,\u001b[0m \u001b[0mkey\u001b[0m\u001b[0;34m)\u001b[0m\u001b[0;34m:\u001b[0m\u001b[0;34m\u001b[0m\u001b[0;34m\u001b[0m\u001b[0m\n",
      "\u001b[0;32m~/anaconda3/lib/python3.7/site-packages/pandas/core/indexing.py\u001b[0m in \u001b[0;36m_getitem_axis\u001b[0;34m(self, key, axis)\u001b[0m\n\u001b[1;32m   2228\u001b[0m \u001b[0;34m\u001b[0m\u001b[0m\n\u001b[1;32m   2229\u001b[0m             \u001b[0;31m# validate the location\u001b[0m\u001b[0;34m\u001b[0m\u001b[0;34m\u001b[0m\u001b[0;34m\u001b[0m\u001b[0m\n\u001b[0;32m-> 2230\u001b[0;31m             \u001b[0mself\u001b[0m\u001b[0;34m.\u001b[0m\u001b[0m_validate_integer\u001b[0m\u001b[0;34m(\u001b[0m\u001b[0mkey\u001b[0m\u001b[0;34m,\u001b[0m \u001b[0maxis\u001b[0m\u001b[0;34m)\u001b[0m\u001b[0;34m\u001b[0m\u001b[0;34m\u001b[0m\u001b[0m\n\u001b[0m\u001b[1;32m   2231\u001b[0m \u001b[0;34m\u001b[0m\u001b[0m\n\u001b[1;32m   2232\u001b[0m             \u001b[0;32mreturn\u001b[0m \u001b[0mself\u001b[0m\u001b[0;34m.\u001b[0m\u001b[0m_get_loc\u001b[0m\u001b[0;34m(\u001b[0m\u001b[0mkey\u001b[0m\u001b[0;34m,\u001b[0m \u001b[0maxis\u001b[0m\u001b[0;34m=\u001b[0m\u001b[0maxis\u001b[0m\u001b[0;34m)\u001b[0m\u001b[0;34m\u001b[0m\u001b[0;34m\u001b[0m\u001b[0m\n",
      "\u001b[0;32m~/anaconda3/lib/python3.7/site-packages/pandas/core/indexing.py\u001b[0m in \u001b[0;36m_validate_integer\u001b[0;34m(self, key, axis)\u001b[0m\n\u001b[1;32m   2137\u001b[0m         \u001b[0mlen_axis\u001b[0m \u001b[0;34m=\u001b[0m \u001b[0mlen\u001b[0m\u001b[0;34m(\u001b[0m\u001b[0mself\u001b[0m\u001b[0;34m.\u001b[0m\u001b[0mobj\u001b[0m\u001b[0;34m.\u001b[0m\u001b[0m_get_axis\u001b[0m\u001b[0;34m(\u001b[0m\u001b[0maxis\u001b[0m\u001b[0;34m)\u001b[0m\u001b[0;34m)\u001b[0m\u001b[0;34m\u001b[0m\u001b[0;34m\u001b[0m\u001b[0m\n\u001b[1;32m   2138\u001b[0m         \u001b[0;32mif\u001b[0m \u001b[0mkey\u001b[0m \u001b[0;34m>=\u001b[0m \u001b[0mlen_axis\u001b[0m \u001b[0;32mor\u001b[0m \u001b[0mkey\u001b[0m \u001b[0;34m<\u001b[0m \u001b[0;34m-\u001b[0m\u001b[0mlen_axis\u001b[0m\u001b[0;34m:\u001b[0m\u001b[0;34m\u001b[0m\u001b[0;34m\u001b[0m\u001b[0m\n\u001b[0;32m-> 2139\u001b[0;31m             \u001b[0;32mraise\u001b[0m \u001b[0mIndexError\u001b[0m\u001b[0;34m(\u001b[0m\u001b[0;34m\"single positional indexer is out-of-bounds\"\u001b[0m\u001b[0;34m)\u001b[0m\u001b[0;34m\u001b[0m\u001b[0;34m\u001b[0m\u001b[0m\n\u001b[0m\u001b[1;32m   2140\u001b[0m \u001b[0;34m\u001b[0m\u001b[0m\n\u001b[1;32m   2141\u001b[0m     \u001b[0;32mdef\u001b[0m \u001b[0m_getitem_tuple\u001b[0m\u001b[0;34m(\u001b[0m\u001b[0mself\u001b[0m\u001b[0;34m,\u001b[0m \u001b[0mtup\u001b[0m\u001b[0;34m)\u001b[0m\u001b[0;34m:\u001b[0m\u001b[0;34m\u001b[0m\u001b[0;34m\u001b[0m\u001b[0m\n",
      "\u001b[0;31mIndexError\u001b[0m: single positional indexer is out-of-bounds"
     ]
    }
   ],
   "source": [
    "for i in X:\n",
    "    print(df[df[\"Seller\"]==i].Followers.iloc[0])\n",
    "    print(\"---\")"
   ]
  },
  {
   "cell_type": "code",
   "execution_count": 104,
   "metadata": {},
   "outputs": [
    {
     "data": {
      "text/plain": [
       "zij3.sip.my         1057\n",
       "ariffindaud          500\n",
       "ljk_9270             400\n",
       "sitiaieshah1902      400\n",
       "kingmotorsport88     394\n",
       "shopmall83           257\n",
       "sssbikeracc          200\n",
       "tomsworkshop         200\n",
       "mdent01              100\n",
       "chlee99              100\n",
       "mohammad_hidzir      100\n",
       "keybob.my            100\n",
       "semyjinxue.my        100\n",
       "maashops             100\n",
       "petersiew119         100\n",
       "heimanys.my          100\n",
       "chuyang.my           100\n",
       "shbikers             100\n",
       "christyleewc         100\n",
       "diamondcoating       100\n",
       "bidaracheeriahq      100\n",
       "hot1016.my            77\n",
       "Name: Seller, dtype: int64"
      ]
     },
     "execution_count": 104,
     "metadata": {},
     "output_type": "execute_result"
    }
   ],
   "source": [
    "df[\"Seller\"].value_counts()"
   ]
  },
  {
   "cell_type": "code",
   "execution_count": 102,
   "metadata": {},
   "outputs": [
    {
     "data": {
      "text/plain": [
       "zij3.sip.my         1057\n",
       "ariffindaud          500\n",
       "ljk_9270             400\n",
       "sitiaieshah1902      400\n",
       "kingmotorsport88     394\n",
       "shopmall83           257\n",
       "sssbikeracc          200\n",
       "tomsworkshop         200\n",
       "mdent01              100\n",
       "chlee99              100\n",
       "mohammad_hidzir      100\n",
       "keybob.my            100\n",
       "semyjinxue.my        100\n",
       "maashops             100\n",
       "petersiew119         100\n",
       "heimanys.my          100\n",
       "chuyang.my           100\n",
       "shbikers             100\n",
       "christyleewc         100\n",
       "diamondcoating       100\n",
       "bidaracheeriahq      100\n",
       "hot1016.my            77\n",
       "Name: Seller, dtype: int64"
      ]
     },
     "execution_count": 102,
     "metadata": {},
     "output_type": "execute_result"
    }
   ],
   "source": [
    "df[\"Seller\"].value_counts()"
   ]
  },
  {
   "cell_type": "code",
   "execution_count": 100,
   "metadata": {},
   "outputs": [
    {
     "ename": "TypeError",
     "evalue": "'method' object is not iterable",
     "output_type": "error",
     "traceback": [
      "\u001b[0;31m---------------------------------------------------------------------------\u001b[0m",
      "\u001b[0;31mTypeError\u001b[0m                                 Traceback (most recent call last)",
      "\u001b[0;32m<ipython-input-100-fd9083deb3f1>\u001b[0m in \u001b[0;36m<module>\u001b[0;34m\u001b[0m\n\u001b[0;32m----> 1\u001b[0;31m \u001b[0;32mfor\u001b[0m \u001b[0mi\u001b[0m \u001b[0;32min\u001b[0m \u001b[0mdf\u001b[0m\u001b[0;34m[\u001b[0m\u001b[0;34m\"Seller\"\u001b[0m\u001b[0;34m]\u001b[0m\u001b[0;34m.\u001b[0m\u001b[0mvalue_counts\u001b[0m\u001b[0;34m:\u001b[0m\u001b[0;34m\u001b[0m\u001b[0;34m\u001b[0m\u001b[0m\n\u001b[0m\u001b[1;32m      2\u001b[0m     \u001b[0mprint\u001b[0m\u001b[0;34m(\u001b[0m\u001b[0mi\u001b[0m\u001b[0;34m)\u001b[0m\u001b[0;34m\u001b[0m\u001b[0;34m\u001b[0m\u001b[0m\n",
      "\u001b[0;31mTypeError\u001b[0m: 'method' object is not iterable"
     ]
    }
   ],
   "source": [
    "for i in df[\"Seller\"].value_counts:\n",
    "    print(i)\n",
    "    df[df[\"Seller\"]==i].Followers.iloc[0]"
   ]
  },
  {
   "cell_type": "code",
   "execution_count": 77,
   "metadata": {},
   "outputs": [
    {
     "data": {
      "text/plain": [
       "[19    1\n",
       " Name: Followers, dtype: int64]"
      ]
     },
     "execution_count": 77,
     "metadata": {},
     "output_type": "execute_result"
    }
   ],
   "source": [
    "my"
   ]
  },
  {
   "cell_type": "code",
   "execution_count": null,
   "metadata": {},
   "outputs": [],
   "source": [
    "for i in df[\"Seller\"].value_counts():\n",
    "    df[\"Seller\"]"
   ]
  },
  {
   "cell_type": "code",
   "execution_count": 67,
   "metadata": {},
   "outputs": [
    {
     "data": {
      "text/plain": [
       "1       1057\n",
       "696      500\n",
       "60       400\n",
       "2400     400\n",
       "159      394\n",
       "66       257\n",
       "52       200\n",
       "21       200\n",
       "407      100\n",
       "92       100\n",
       "176      100\n",
       "760      100\n",
       "1600     100\n",
       "25       100\n",
       "33       100\n",
       "37       100\n",
       "65       100\n",
       "93       100\n",
       "26       100\n",
       "462      100\n",
       "0        100\n",
       "314       77\n",
       "Name: Followers, dtype: int64"
      ]
     },
     "execution_count": 67,
     "metadata": {},
     "output_type": "execute_result"
    }
   ],
   "source": [
    "df[\"Followers\"].value_counts()"
   ]
  },
  {
   "cell_type": "code",
   "execution_count": 130,
   "metadata": {},
   "outputs": [
    {
     "data": {
      "text/plain": [
       "1       1057\n",
       "696      500\n",
       "60       400\n",
       "2400     400\n",
       "159      394\n",
       "66       257\n",
       "52       200\n",
       "21       200\n",
       "407      100\n",
       "92       100\n",
       "176      100\n",
       "760      100\n",
       "1600     100\n",
       "25       100\n",
       "33       100\n",
       "37       100\n",
       "65       100\n",
       "93       100\n",
       "26       100\n",
       "462      100\n",
       "0        100\n",
       "314       77\n",
       "Name: Followers, dtype: int64"
      ]
     },
     "execution_count": 130,
     "metadata": {},
     "output_type": "execute_result"
    }
   ],
   "source": [
    "df[\"Followers\"].value_counts()"
   ]
  },
  {
   "cell_type": "code",
   "execution_count": 129,
   "metadata": {},
   "outputs": [
    {
     "data": {
      "text/plain": [
       "<matplotlib.axes._subplots.AxesSubplot at 0x1a1b868b38>"
      ]
     },
     "execution_count": 129,
     "metadata": {},
     "output_type": "execute_result"
    },
    {
     "data": {
      "image/png": "[encoded data removed]",
      "text/plain": [
       "<Figure size 2160x720 with 1 Axes>"
      ]
     },
     "metadata": {
      "needs_background": "light"
     },
     "output_type": "display_data"
    }
   ],
   "source": [
    "# The most followers\n",
    "plt.figure(figsize=(30,10))\n",
    "sns.barplot(x=df[\"Seller\"],y=df[\"Followers\"].value_counts()) "
   ]
  },
  {
   "cell_type": "code",
   "execution_count": 43,
   "metadata": {},
   "outputs": [
    {
     "data": {
      "text/plain": [
       "<matplotlib.axes._subplots.AxesSubplot at 0x1a1b4a9a90>"
      ]
     },
     "execution_count": 43,
     "metadata": {},
     "output_type": "execute_result"
    },
    {
     "data": {
      "image/png": "[encoded data removed]",
      "text/plain": [
       "<Figure size 2160x720 with 1 Axes>"
      ]
     },
     "metadata": {
      "needs_background": "light"
     },
     "output_type": "display_data"
    }
   ],
   "source": [
    "# The most sold \n",
    "plt.figure(figsize=(30,10))\n",
    "sns.barplot(x=df[\"Seller\"],y=df[\"Sold\"].value_counts()) "
   ]
  },
  {
   "cell_type": "code",
   "execution_count": 47,
   "metadata": {},
   "outputs": [
    {
     "data": {
      "text/plain": [
       "<matplotlib.axes._subplots.AxesSubplot at 0x1a1bca9438>"
      ]
     },
     "execution_count": 47,
     "metadata": {},
     "output_type": "execute_result"
    },
    {
     "data": {
      "image/png": "[encoded data removed]",
      "text/plain": [
       "<Figure size 2160x720 with 1 Axes>"
      ]
     },
     "metadata": {
      "needs_background": "light"
     },
     "output_type": "display_data"
    }
   ],
   "source": [
    "# The most sold\n",
    "plt.figure(figsize=(30,10))\n",
    "sns.barplot(x=df[\"Seller\"],y=df[\"Ratings\"]) "
   ]
  },
  {
   "cell_type": "code",
   "execution_count": 56,
   "metadata": {},
   "outputs": [
    {
     "data": {
      "text/plain": [
       "<matplotlib.axes._subplots.AxesSubplot at 0x1a1cd78f98>"
      ]
     },
     "execution_count": 56,
     "metadata": {},
     "output_type": "execute_result"
    },
    {
     "data": {
      "image/png": "[encoded data removed]",
      "text/plain": [
       "<Figure size 2160x720 with 1 Axes>"
      ]
     },
     "metadata": {
      "needs_background": "light"
     },
     "output_type": "display_data"
    }
   ],
   "source": [
    "# The most sold\n",
    "\n",
    "plt.figure(figsize=(30,10))\n",
    "\n",
    "\n",
    "sns.scatterplot(x=df[\"Seller\"], y=df[\"SellerRatings\"])"
   ]
  },
  {
   "cell_type": "code",
   "execution_count": 58,
   "metadata": {},
   "outputs": [
    {
     "data": {
      "text/plain": [
       "<matplotlib.axes._subplots.AxesSubplot at 0x1a1e5432e8>"
      ]
     },
     "execution_count": 58,
     "metadata": {},
     "output_type": "execute_result"
    },
    {
     "data": {
      "image/png": "[encoded data removed]",
      "text/plain": [
       "<Figure size 2160x720 with 1 Axes>"
      ]
     },
     "metadata": {
      "needs_background": "light"
     },
     "output_type": "display_data"
    }
   ],
   "source": [
    "# The most sold\n",
    "plt.figure(figsize=(30,10))\n",
    "sns.barplot(x=df[\"Seller\"],y=df[\"SellerRatings\"]) "
   ]
  },
  {
   "cell_type": "code",
   "execution_count": null,
   "metadata": {},
   "outputs": [],
   "source": []
  },
  {
   "cell_type": "code",
   "execution_count": 60,
   "metadata": {},
   "outputs": [
    {
     "data": {
      "text/plain": [
       "<matplotlib.axes._subplots.AxesSubplot at 0x1a1f0d7e10>"
      ]
     },
     "execution_count": 60,
     "metadata": {},
     "output_type": "execute_result"
    },
    {
     "data": {
      "image/png": "[encoded data removed]",
      "text/plain": [
       "<Figure size 2160x720 with 1 Axes>"
      ]
     },
     "metadata": {
      "needs_background": "light"
     },
     "output_type": "display_data"
    }
   ],
   "source": [
    "# The most sold\n",
    "plt.figure(figsize=(30,10))\n",
    "sns.barplot(x=df[\"Seller\"],y=df[\"Products\"]) "
   ]
  },
  {
   "cell_type": "code",
   "execution_count": 21,
   "metadata": {},
   "outputs": [],
   "source": [
    "#删除特定行\n",
    "df=df[df['Ratings']>0]"
   ]
  },
  {
   "cell_type": "code",
   "execution_count": 22,
   "metadata": {},
   "outputs": [
    {
     "data": {
      "text/plain": [
       "5.0    1037\n",
       "4.9     400\n",
       "4.8     200\n",
       "4.5     200\n",
       "3.7     100\n",
       "Name: Stars, dtype: int64"
      ]
     },
     "execution_count": 22,
     "metadata": {},
     "output_type": "execute_result"
    }
   ],
   "source": [
    "df[\"Stars\"].value_counts()"
   ]
  },
  {
   "cell_type": "code",
   "execution_count": 23,
   "metadata": {},
   "outputs": [],
   "source": [
    "X = []\n",
    "for x in df[\"Stars\"]:\n",
    "    if(x<4):\n",
    "        X.append('L')\n",
    "    else:\n",
    "        X.append('H')\n"
   ]
  },
  {
   "cell_type": "code",
   "execution_count": 24,
   "metadata": {},
   "outputs": [
    {
     "name": "stderr",
     "output_type": "stream",
     "text": [
      "/Users/liuhongyang/anaconda3/lib/python3.7/site-packages/ipykernel_launcher.py:2: SettingWithCopyWarning: \n",
      "A value is trying to be set on a copy of a slice from a DataFrame.\n",
      "Try using .loc[row_indexer,col_indexer] = value instead\n",
      "\n",
      "See the caveats in the documentation: http://pandas.pydata.org/pandas-docs/stable/indexing.html#indexing-view-versus-copy\n",
      "  \n"
     ]
    }
   ],
   "source": [
    "# add level column\n",
    "df[\"Level\"] = X"
   ]
  },
  {
   "cell_type": "code",
   "execution_count": 26,
   "metadata": {},
   "outputs": [
    {
     "data": {
      "text/plain": [
       "<matplotlib.axes._subplots.AxesSubplot at 0x1a1a134898>"
      ]
     },
     "execution_count": 26,
     "metadata": {},
     "output_type": "execute_result"
    },
    {
     "data": {
      "image/png": "[encoded data removed]",
      "text/plain": [
       "<Figure size 1440x720 with 1 Axes>"
      ]
     },
     "metadata": {
      "needs_background": "light"
     },
     "output_type": "display_data"
    }
   ],
   "source": [
    "plt.figure(figsize=(20,10))\n",
    "sns.boxplot(x=df[\"Seller\"],y=df[\"Followers\"]) "
   ]
  },
  {
   "cell_type": "code",
   "execution_count": 25,
   "metadata": {},
   "outputs": [
    {
     "data": {
      "text/html": [
       "<div>\n",
       "<style scoped>\n",
       "    .dataframe tbody tr th:only-of-type {\n",
       "        vertical-align: middle;\n",
       "    }\n",
       "\n",
       "    .dataframe tbody tr th {\n",
       "        vertical-align: top;\n",
       "    }\n",
       "\n",
       "    .dataframe thead th {\n",
       "        text-align: right;\n",
       "    }\n",
       "</style>\n",
       "<table border=\"1\" class=\"dataframe\">\n",
       "  <thead>\n",
       "    <tr style=\"text-align: right;\">\n",
       "      <th></th>\n",
       "      <th>Label</th>\n",
       "      <th>Stars</th>\n",
       "      <th>Ratings</th>\n",
       "      <th>Sold</th>\n",
       "      <th>PriceMin</th>\n",
       "      <th>PriceMax</th>\n",
       "      <th>Stock</th>\n",
       "      <th>Seller</th>\n",
       "      <th>SellerRatings</th>\n",
       "      <th>Products</th>\n",
       "      <th>ResponseRate</th>\n",
       "      <th>ResponseTime</th>\n",
       "      <th>Joined</th>\n",
       "      <th>Followers</th>\n",
       "      <th>URL</th>\n",
       "      <th>Level</th>\n",
       "    </tr>\n",
       "  </thead>\n",
       "  <tbody>\n",
       "    <tr>\n",
       "      <th>1</th>\n",
       "      <td>【German Formulated🇩🇪】💎Diamond Coating💎</td>\n",
       "      <td>4.8</td>\n",
       "      <td>46</td>\n",
       "      <td>68</td>\n",
       "      <td>59.0</td>\n",
       "      <td>59.0</td>\n",
       "      <td>68</td>\n",
       "      <td>diamondcoating</td>\n",
       "      <td>62</td>\n",
       "      <td>7</td>\n",
       "      <td>0.93</td>\n",
       "      <td>days</td>\n",
       "      <td>3 months</td>\n",
       "      <td>26</td>\n",
       "      <td>https://shopee.com.my/【German-Formulated🇩🇪】💎Di...</td>\n",
       "      <td>H</td>\n",
       "    </tr>\n",
       "    <tr>\n",
       "      <th>2</th>\n",
       "      <td>STICKER METER Y15ZR V2</td>\n",
       "      <td>4.9</td>\n",
       "      <td>344</td>\n",
       "      <td>525</td>\n",
       "      <td>15.0</td>\n",
       "      <td>15.0</td>\n",
       "      <td>525</td>\n",
       "      <td>ariffindaud</td>\n",
       "      <td>1200</td>\n",
       "      <td>19</td>\n",
       "      <td>0.93</td>\n",
       "      <td>hours</td>\n",
       "      <td>5 years</td>\n",
       "      <td>696</td>\n",
       "      <td>https://shopee.com.my/STICKER-METER-Y15ZR-V2-i...</td>\n",
       "      <td>H</td>\n",
       "    </tr>\n",
       "    <tr>\n",
       "      <th>3</th>\n",
       "      <td>STICKER METER Y15ZR V1 BARU</td>\n",
       "      <td>4.9</td>\n",
       "      <td>73</td>\n",
       "      <td>107</td>\n",
       "      <td>28.0</td>\n",
       "      <td>28.0</td>\n",
       "      <td>107</td>\n",
       "      <td>ariffindaud</td>\n",
       "      <td>1200</td>\n",
       "      <td>19</td>\n",
       "      <td>0.93</td>\n",
       "      <td>hours</td>\n",
       "      <td>5 years</td>\n",
       "      <td>696</td>\n",
       "      <td>https://shopee.com.my/STICKER-METER-Y15ZR-V1-B...</td>\n",
       "      <td>H</td>\n",
       "    </tr>\n",
       "    <tr>\n",
       "      <th>4</th>\n",
       "      <td>STICKER METER EX5 DREAM</td>\n",
       "      <td>4.9</td>\n",
       "      <td>12</td>\n",
       "      <td>15</td>\n",
       "      <td>15.0</td>\n",
       "      <td>15.0</td>\n",
       "      <td>15</td>\n",
       "      <td>ariffindaud</td>\n",
       "      <td>1200</td>\n",
       "      <td>19</td>\n",
       "      <td>0.93</td>\n",
       "      <td>hours</td>\n",
       "      <td>5 years</td>\n",
       "      <td>696</td>\n",
       "      <td>https://shopee.com.my/STICKER-METER-EX5-DREAM-...</td>\n",
       "      <td>H</td>\n",
       "    </tr>\n",
       "    <tr>\n",
       "      <th>5</th>\n",
       "      <td>Original Proton blm FLX power window main swit...</td>\n",
       "      <td>5.0</td>\n",
       "      <td>11</td>\n",
       "      <td>13</td>\n",
       "      <td>55.0</td>\n",
       "      <td>55.0</td>\n",
       "      <td>13</td>\n",
       "      <td>ljk_9270</td>\n",
       "      <td>191</td>\n",
       "      <td>229</td>\n",
       "      <td>1.00</td>\n",
       "      <td>hours</td>\n",
       "      <td>11 months</td>\n",
       "      <td>60</td>\n",
       "      <td>https://shopee.com.my/Original-Proton-blm-FLX-...</td>\n",
       "      <td>H</td>\n",
       "    </tr>\n",
       "  </tbody>\n",
       "</table>\n",
       "</div>"
      ],
      "text/plain": [
       "                                               Label  Stars  Ratings  Sold  \\\n",
       "1             【German Formulated🇩🇪】💎Diamond Coating💎    4.8       46    68   \n",
       "2                             STICKER METER Y15ZR V2    4.9      344   525   \n",
       "3                        STICKER METER Y15ZR V1 BARU    4.9       73   107   \n",
       "4                            STICKER METER EX5 DREAM    4.9       12    15   \n",
       "5  Original Proton blm FLX power window main swit...    5.0       11    13   \n",
       "\n",
       "   PriceMin  PriceMax  Stock          Seller  SellerRatings  Products  \\\n",
       "1      59.0      59.0     68  diamondcoating             62         7   \n",
       "2      15.0      15.0    525     ariffindaud           1200        19   \n",
       "3      28.0      28.0    107     ariffindaud           1200        19   \n",
       "4      15.0      15.0     15     ariffindaud           1200        19   \n",
       "5      55.0      55.0     13        ljk_9270            191       229   \n",
       "\n",
       "   ResponseRate ResponseTime      Joined  Followers  \\\n",
       "1          0.93         days   3 months          26   \n",
       "2          0.93        hours    5 years         696   \n",
       "3          0.93        hours    5 years         696   \n",
       "4          0.93        hours    5 years         696   \n",
       "5          1.00        hours  11 months          60   \n",
       "\n",
       "                                                 URL Level  \n",
       "1  https://shopee.com.my/【German-Formulated🇩🇪】💎Di...     H  \n",
       "2  https://shopee.com.my/STICKER-METER-Y15ZR-V2-i...     H  \n",
       "3  https://shopee.com.my/STICKER-METER-Y15ZR-V1-B...     H  \n",
       "4  https://shopee.com.my/STICKER-METER-EX5-DREAM-...     H  \n",
       "5  https://shopee.com.my/Original-Proton-blm-FLX-...     H  "
      ]
     },
     "execution_count": 25,
     "metadata": {},
     "output_type": "execute_result"
    }
   ],
   "source": [
    "df.head()"
   ]
  },
  {
   "cell_type": "code",
   "execution_count": null,
   "metadata": {},
   "outputs": [],
   "source": [
    "df.Level.value_counts()"
   ]
  },
  {
   "cell_type": "code",
   "execution_count": null,
   "metadata": {},
   "outputs": [],
   "source": [
    "import numpy as np\n",
    "\n",
    "X = [\"L\",\"H\"]\n",
    "\n",
    "Y = df.Level.value_counts()\n",
    "sns.barplot(x=X, y=Y)\n",
    "\n",
    "labels = ['H','L']\n",
    "sizes = Y\n",
    "\n",
    "\n",
    "\n",
    "\n",
    "fig1, ax1 = plt.subplots()\n",
    "\n",
    "ax1.pie(sizes, labels=labels, autopct='%1.1f%%',\n",
    "        shadow=True, startangle=90)\n",
    "\n",
    "ax1.axis('equal')  # Equ\n",
    "\n",
    "\n",
    "plt.figure()\n",
    "\n",
    "\n",
    "plt.show()"
   ]
  },
  {
   "cell_type": "code",
   "execution_count": null,
   "metadata": {},
   "outputs": [],
   "source": [
    "plt.figure(figsize=(20,10))\n",
    "sns.boxplot(x=df[\"Seller\"],y=df[\"Followers\"]) "
   ]
  },
  {
   "cell_type": "code",
   "execution_count": null,
   "metadata": {},
   "outputs": [],
   "source": [
    "plt.figure(figsize=(20,10))\n",
    "sns.boxplot(x=df[\"Level\"],y=df[\"PriceMin\"]) "
   ]
  },
  {
   "cell_type": "code",
   "execution_count": null,
   "metadata": {},
   "outputs": [],
   "source": [
    "import plotly.graph_objects as go\n",
    "\n",
    "\n",
    "\n",
    "fig = go.Figure()\n",
    "fig.add_trace(go.Box(\n",
    "    x=df[\"Seller\"],\n",
    "    y=df[\"ResponseTime\"],\n",
    "    name='kale',\n",
    "    marker_color='#3D9970'\n",
    "))\n",
    "\n",
    "\n",
    "fig.update_layout(\n",
    "    xaxis=dict(title='normalized moisture', zeroline=False),\n",
    "    boxmode='group'\n",
    ")\n",
    "\n",
    "fig.show()"
   ]
  },
  {
   "cell_type": "code",
   "execution_count": null,
   "metadata": {},
   "outputs": [],
   "source": [
    "plt.figure(figsize=(20,10))\n",
    "sns.boxplot(x=df[\"Seller\"],y=df[\"Stars\"]) "
   ]
  },
  {
   "cell_type": "code",
   "execution_count": null,
   "metadata": {},
   "outputs": [],
   "source": [
    "plt.figure(figsize=(20,10))\n",
    "sns.boxplot(x=df[\"Seller\"],y=df[\"Sold\"]) \n"
   ]
  },
  {
   "cell_type": "code",
   "execution_count": null,
   "metadata": {},
   "outputs": [],
   "source": [
    "plt.figure(figsize=(20,10))\n",
    "\n",
    "\n",
    "sns.scatterplot(x=df[\"Seller\"], y=df[\"Level\"])"
   ]
  },
  {
   "cell_type": "code",
   "execution_count": null,
   "metadata": {},
   "outputs": [],
   "source": [
    "plt.figure(figsize=(20,10))\n",
    "\n",
    "\n",
    "sns.scatterplot(x=df[\"Ratings\"], y=df[\"Joined\"])"
   ]
  },
  {
   "cell_type": "code",
   "execution_count": null,
   "metadata": {},
   "outputs": [],
   "source": [
    "plt.figure(figsize=(20,10))\n",
    "sns.boxplot(x=df[\"Seller\"],y=df[\"Follwers\"]) "
   ]
  },
  {
   "cell_type": "code",
   "execution_count": null,
   "metadata": {},
   "outputs": [],
   "source": []
  },
  {
   "cell_type": "code",
   "execution_count": null,
   "metadata": {},
   "outputs": [],
   "source": [
    "plt.figure(figsize=(20,10))\n",
    "sns.boxplot(x=df[\"Seller\"],y=df[\"PriceMin\"]) "
   ]
  },
  {
   "cell_type": "code",
   "execution_count": null,
   "metadata": {},
   "outputs": [],
   "source": [
    "plt.figure(figsize=(20,10))\n",
    "\n",
    "df[\"Followers\"].value_counts()\n",
    "\n"
   ]
  },
  {
   "cell_type": "code",
   "execution_count": null,
   "metadata": {},
   "outputs": [],
   "source": [
    "sns.pairplot(df, hue=\"Level\")"
   ]
  },
  {
   "cell_type": "code",
   "execution_count": null,
   "metadata": {},
   "outputs": [],
   "source": [
    "Y = df[\"Seller\"].value_counts()"
   ]
  },
  {
   "cell_type": "code",
   "execution_count": null,
   "metadata": {},
   "outputs": [],
   "source": [
    "len(Y)"
   ]
  },
  {
   "cell_type": "code",
   "execution_count": null,
   "metadata": {},
   "outputs": [],
   "source": [
    "X=[\"1\",\"2\",\"3\",\"4\",\"5\",\"6\",\"7\",\"8\",\"9\",\"10\",\"11\",\"12\",\"13\",\"14\",\"15\",\"4\",\"5\",\"2\",\"3\",\"4\",\"5\",\"6\"]"
   ]
  },
  {
   "cell_type": "code",
   "execution_count": null,
   "metadata": {},
   "outputs": [],
   "source": [
    "sns.barplot(x=X, y=Y)\n",
    "\n",
    "plt.ylabel(\"Arrival delay (in minutes\")"
   ]
  },
  {
   "cell_type": "code",
   "execution_count": null,
   "metadata": {},
   "outputs": [],
   "source": [
    "fig, ax = plt.subplots()\n",
    "ax.barh(X, Y)"
   ]
  },
  {
   "cell_type": "code",
   "execution_count": null,
   "metadata": {},
   "outputs": [],
   "source": [
    "\n",
    "# Pie chart, where the slices will be ordered and plotted counter-clockwise:\n",
    "labels = X\n",
    "sizes = Y\n",
    "\n",
    "\n",
    "fig1, ax1 = plt.subplots()\n",
    "ax1.pie(sizes, labels=labels, autopct='%1.1f%%',\n",
    "        shadow=True, startangle=90)\n",
    "ax1.axis('equal')  # Equal aspect ratio ensures that pie is drawn as a circle.\n",
    "\n",
    "plt.show()"
   ]
  },
  {
   "cell_type": "code",
   "execution_count": null,
   "metadata": {},
   "outputs": [],
   "source": [
    "import plotly.graph_objects as go\n",
    "animals=['giraffes', 'orangutans', 'monkeys']\n",
    "\n",
    "fig = go.Figure(data=[\n",
    "    go.Bar(name='SF Zoo', x=X, y=Y)\n",
    "])\n",
    "# Change the bar mode\n",
    "fig.update_layout(barmode='stack')\n",
    "fig.show()\n"
   ]
  },
  {
   "cell_type": "code",
   "execution_count": null,
   "metadata": {},
   "outputs": [],
   "source": [
    "import plotly.express as px\n",
    "\n",
    "\n",
    "\n",
    "fig = px.box(df, x=\"Seller\", y=\"Ratings\")\n",
    "\n",
    "\n",
    "\n",
    "fig.show()"
   ]
  },
  {
   "cell_type": "code",
   "execution_count": null,
   "metadata": {},
   "outputs": [],
   "source": []
  }
 ],
 "metadata": {
  "kernelspec": {
   "display_name": "Python 3",
   "language": "python",
   "name": "python3"
  },
  "language_info": {
   "codemirror_mode": {
    "name": "ipython",
    "version": 3
   },
   "file_extension": ".py",
   "mimetype": "text/x-python",
   "name": "python",
   "nbconvert_exporter": "python",
   "pygments_lexer": "ipython3",
   "version": "3.7.3"
  }
 },
 "nbformat": 4,
 "nbformat_minor": 2
}
